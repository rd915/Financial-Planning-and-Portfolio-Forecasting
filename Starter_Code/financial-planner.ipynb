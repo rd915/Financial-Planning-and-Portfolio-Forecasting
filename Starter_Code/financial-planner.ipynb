{
 "cells": [
  {
   "cell_type": "markdown",
   "metadata": {},
   "source": [
    "# Unit 5 - Financial Planning\n"
   ]
  },
  {
   "cell_type": "code",
   "execution_count": 26,
   "metadata": {},
   "outputs": [],
   "source": [
    "# Initial imports\n",
    "import os\n",
    "import requests\n",
    "import pandas as pd\n",
    "from dotenv import load_dotenv\n",
    "import alpaca_trade_api as tradeapi\n",
    "from MCForecastTools import MCSimulation\n",
    "\n",
    "%matplotlib inline"
   ]
  },
  {
   "cell_type": "code",
   "execution_count": 27,
   "metadata": {},
   "outputs": [
    {
     "data": {
      "text/plain": [
       "True"
      ]
     },
     "execution_count": 27,
     "metadata": {},
     "output_type": "execute_result"
    }
   ],
   "source": [
    "# Load .env enviroment variables\n",
    "load_dotenv()"
   ]
  },
  {
   "cell_type": "markdown",
   "metadata": {},
   "source": [
    "## Part 1 - Personal Finance Planner"
   ]
  },
  {
   "cell_type": "markdown",
   "metadata": {},
   "source": [
    "### Collect Crypto Prices Using the `requests` Library"
   ]
  },
  {
   "cell_type": "code",
   "execution_count": 28,
   "metadata": {},
   "outputs": [],
   "source": [
    "# Set current amount of crypto assets\n",
    "my_btc = 1.2\n",
    "my_eth = 5.3"
   ]
  },
  {
   "cell_type": "code",
   "execution_count": 29,
   "metadata": {},
   "outputs": [],
   "source": [
    "# Crypto API URLs\n",
    "btc_url = \"https://api.alternative.me/v2/ticker/Bitcoin/?convert=CAD\" \n",
    "eth_url = \"https://api.alternative.me/v2/ticker/Ethereum/?convert=CAD\"  \n"
   ]
  },
  {
   "cell_type": "code",
   "execution_count": 30,
   "metadata": {},
   "outputs": [
    {
     "name": "stdout",
     "output_type": "stream",
     "text": [
      "<Response [200]>\n",
      "<Response [200]>\n",
      "\n",
      "BTC price is: 33457.0\n",
      "ETH price is: 1950.58\n",
      "\n",
      "The current value of your 1.2 BTC is $40148.40\n",
      "The current value of your 5.3 ETH is $10338.07\n"
     ]
    }
   ],
   "source": [
    "## Import JSON\n",
    "import json\n",
    "\n",
    "# Fetch current BTC price\n",
    "btc_get = requests.get(btc_url)\n",
    "print(btc_get)\n",
    "\n",
    "## Get BTC API output\n",
    "btc_content = btc_get.content\n",
    "\n",
    "## Format as JSON\n",
    "btc_data = btc_get.json()\n",
    "\n",
    "## Indents output\n",
    "json.dumps(btc_data, indent=4)\n",
    "\n",
    "## Pulls current BTC price\n",
    "btc_price= btc_data['data']['1']['quotes']['USD']['price'] \n",
    "\n",
    "# Fetch current ETH price\n",
    "eth_get = requests.get(eth_url)\n",
    "print(eth_get)\n",
    "print()\n",
    "\n",
    "## Get current ETH API output\n",
    "eth_content = eth_get.content\n",
    "\n",
    "## Format as JSON\n",
    "eth_data = eth_get.json()\n",
    "\n",
    "## Indents output\n",
    "json.dumps(eth_data, indent=4)\n",
    "\n",
    "## Pulls current ETH price\n",
    "\n",
    "eth_price= eth_data['data']['1027']['quotes']['USD']['price'] \n",
    "\n",
    "## Compute current value of my crpto\n",
    "\n",
    "my_btc_value = my_btc * btc_price\n",
    "my_eth_value = my_eth * eth_price\n",
    "\n",
    "\n",
    "print(f\"BTC price is: {btc_price}\")\n",
    "print(f\"ETH price is: {eth_price}\")\n",
    "print()\n",
    "\n",
    "# Print current crypto wallet balance\n",
    "print(f\"The current value of your {my_btc} BTC is ${my_btc_value:0.2f}\")\n",
    "print(f\"The current value of your {my_eth} ETH is ${my_eth_value:0.2f}\")"
   ]
  },
  {
   "cell_type": "markdown",
   "metadata": {},
   "source": [
    "### Collect Investments Data Using Alpaca: `SPY` (stocks) and `AGG` (bonds)"
   ]
  },
  {
   "cell_type": "code",
   "execution_count": 31,
   "metadata": {},
   "outputs": [],
   "source": [
    "# Current amount of shares\n",
    "\n",
    "my_agg = 200\n",
    "my_spy = 50\n",
    "\n"
   ]
  },
  {
   "cell_type": "code",
   "execution_count": 32,
   "metadata": {},
   "outputs": [
    {
     "name": "stdout",
     "output_type": "stream",
     "text": [
      "Alpaca key type: <class 'str'>\n",
      "Alpaca secret key type: <class 'str'>\n"
     ]
    }
   ],
   "source": [
    "# Set Alpaca API key and secret\n",
    "alpaca_api_key = os.getenv(\"ALPACA_API_KEY\")\n",
    "alpaca_secret_key = os.getenv(\"ALPACA_SECRET_KEY\")\n",
    "\n",
    "# Verify that keys were loaded properly\n",
    "print(f\"Alpaca key type: {type(alpaca_api_key)}\")\n",
    "print(f\"Alpaca secret key type: {type(alpaca_secret_key)}\")\n",
    "\n",
    "# Create the Alpaca API object\n",
    "alpaca = tradeapi.REST(\n",
    "    alpaca_api_key,\n",
    "    alpaca_secret_key,\n",
    "    api_version=\"v2\")"
   ]
  },
  {
   "cell_type": "code",
   "execution_count": 33,
   "metadata": {},
   "outputs": [
    {
     "data": {
      "text/html": [
       "<div>\n",
       "<style scoped>\n",
       "    .dataframe tbody tr th:only-of-type {\n",
       "        vertical-align: middle;\n",
       "    }\n",
       "\n",
       "    .dataframe tbody tr th {\n",
       "        vertical-align: top;\n",
       "    }\n",
       "\n",
       "    .dataframe thead tr th {\n",
       "        text-align: left;\n",
       "    }\n",
       "\n",
       "    .dataframe thead tr:last-of-type th {\n",
       "        text-align: right;\n",
       "    }\n",
       "</style>\n",
       "<table border=\"1\" class=\"dataframe\">\n",
       "  <thead>\n",
       "    <tr>\n",
       "      <th></th>\n",
       "      <th colspan=\"5\" halign=\"left\">AGG</th>\n",
       "      <th colspan=\"5\" halign=\"left\">SPY</th>\n",
       "    </tr>\n",
       "    <tr>\n",
       "      <th></th>\n",
       "      <th>open</th>\n",
       "      <th>high</th>\n",
       "      <th>low</th>\n",
       "      <th>close</th>\n",
       "      <th>volume</th>\n",
       "      <th>open</th>\n",
       "      <th>high</th>\n",
       "      <th>low</th>\n",
       "      <th>close</th>\n",
       "      <th>volume</th>\n",
       "    </tr>\n",
       "    <tr>\n",
       "      <th>time</th>\n",
       "      <th></th>\n",
       "      <th></th>\n",
       "      <th></th>\n",
       "      <th></th>\n",
       "      <th></th>\n",
       "      <th></th>\n",
       "      <th></th>\n",
       "      <th></th>\n",
       "      <th></th>\n",
       "      <th></th>\n",
       "    </tr>\n",
       "  </thead>\n",
       "  <tbody>\n",
       "    <tr>\n",
       "      <th>2021-06-18 00:00:00-04:00</th>\n",
       "      <td>115.05</td>\n",
       "      <td>115.39</td>\n",
       "      <td>114.91</td>\n",
       "      <td>115.29</td>\n",
       "      <td>5438261</td>\n",
       "      <td>417.08</td>\n",
       "      <td>417.8281</td>\n",
       "      <td>414.7</td>\n",
       "      <td>415.01</td>\n",
       "      <td>92753385</td>\n",
       "    </tr>\n",
       "  </tbody>\n",
       "</table>\n",
       "</div>"
      ],
      "text/plain": [
       "                              AGG                                      SPY  \\\n",
       "                             open    high     low   close   volume    open   \n",
       "time                                                                         \n",
       "2021-06-18 00:00:00-04:00  115.05  115.39  114.91  115.29  5438261  417.08   \n",
       "\n",
       "                                                              \n",
       "                               high    low   close    volume  \n",
       "time                                                          \n",
       "2021-06-18 00:00:00-04:00  417.8281  414.7  415.01  92753385  "
      ]
     },
     "execution_count": 33,
     "metadata": {},
     "output_type": "execute_result"
    }
   ],
   "source": [
    "# Format current date as ISO format\n",
    "today = pd.Timestamp(\"2021-06-18\", tz=\"America/New_York\").isoformat()\n",
    "\n",
    "# Set the tickers\n",
    "tickers = [\"AGG\", \"SPY\"]\n",
    "\n",
    "# Set timeframe to '1D' for Alpaca API\n",
    "timeframe = \"1D\"\n",
    "\n",
    "# Get current closing prices for SPY and AGG\n",
    "df_stocks = alpaca.get_barset(\n",
    "    tickers,\n",
    "    timeframe,\n",
    "    start=today,\n",
    "    end = today\n",
    ").df\n",
    "\n",
    "# Preview DataFrame\n",
    "\n",
    "df_stocks"
   ]
  },
  {
   "cell_type": "code",
   "execution_count": 34,
   "metadata": {},
   "outputs": [
    {
     "name": "stdout",
     "output_type": "stream",
     "text": [
      "Current AGG closing price: $115.29\n",
      "Current SPY closing price: $415.01\n"
     ]
    }
   ],
   "source": [
    "# Pick AGG and SPY close prices\n",
    "agg_close_price = float(df_stocks[\"AGG\"][\"close\"])\n",
    "spy_close_price = float(df_stocks[\"SPY\"][\"close\"])\n",
    "\n",
    "# Print AGG and SPY close prices\n",
    "print(f\"Current AGG closing price: ${agg_close_price}\")\n",
    "print(f\"Current SPY closing price: ${spy_close_price}\")"
   ]
  },
  {
   "cell_type": "code",
   "execution_count": 35,
   "metadata": {},
   "outputs": [
    {
     "name": "stdout",
     "output_type": "stream",
     "text": [
      "The current value of your 50 SPY shares is $20750.50\n",
      "The current value of your 200 AGG shares is $23058.00\n"
     ]
    }
   ],
   "source": [
    "# Compute the current value of shares\n",
    "my_spy_value = my_spy * spy_close_price\n",
    "my_agg_value = my_agg * agg_close_price\n",
    "\n",
    "# Print current value of share\n",
    "print(f\"The current value of your {my_spy} SPY shares is ${my_spy_value:0.2f}\")\n",
    "print(f\"The current value of your {my_agg} AGG shares is ${my_agg_value:0.2f}\")"
   ]
  },
  {
   "cell_type": "markdown",
   "metadata": {},
   "source": [
    "### Savings Health Analysis"
   ]
  },
  {
   "cell_type": "code",
   "execution_count": 36,
   "metadata": {},
   "outputs": [
    {
     "data": {
      "text/html": [
       "<div>\n",
       "<style scoped>\n",
       "    .dataframe tbody tr th:only-of-type {\n",
       "        vertical-align: middle;\n",
       "    }\n",
       "\n",
       "    .dataframe tbody tr th {\n",
       "        vertical-align: top;\n",
       "    }\n",
       "\n",
       "    .dataframe thead th {\n",
       "        text-align: right;\n",
       "    }\n",
       "</style>\n",
       "<table border=\"1\" class=\"dataframe\">\n",
       "  <thead>\n",
       "    <tr style=\"text-align: right;\">\n",
       "      <th></th>\n",
       "      <th>Amounts</th>\n",
       "    </tr>\n",
       "  </thead>\n",
       "  <tbody>\n",
       "    <tr>\n",
       "      <th>crypto</th>\n",
       "      <td>50486.474</td>\n",
       "    </tr>\n",
       "    <tr>\n",
       "      <th>shares</th>\n",
       "      <td>43808.500</td>\n",
       "    </tr>\n",
       "  </tbody>\n",
       "</table>\n",
       "</div>"
      ],
      "text/plain": [
       "          Amounts\n",
       "crypto  50486.474\n",
       "shares  43808.500"
      ]
     },
     "metadata": {},
     "output_type": "display_data"
    }
   ],
   "source": [
    "# Set monthly household income\n",
    "monthly_income = 12000\n",
    "\n",
    "# Create list for savings df\n",
    "total_crpyto_value = my_btc_value + my_eth_value\n",
    "total_shares_value = my_spy_value + my_agg_value\n",
    "\n",
    "total_value = {\n",
    "    \"Amounts\":[total_crpyto_value,total_shares_value]\n",
    "}\n",
    "\n",
    "# Create list for savings df index\n",
    "asset_list = [\"crypto\", \"shares\"]\n",
    "\n",
    "# Create savings DataFrame\n",
    "df_savings = pd.DataFrame(total_value, index = asset_list)\n",
    "\n",
    "# Display savings DataFrame\n",
    "display(df_savings)"
   ]
  },
  {
   "cell_type": "code",
   "execution_count": 37,
   "metadata": {},
   "outputs": [
    {
     "data": {
      "text/plain": [
       "<AxesSubplot:title={'center':'Crypto vs Stocks/Bonds'}, ylabel='Amounts'>"
      ]
     },
     "execution_count": 37,
     "metadata": {},
     "output_type": "execute_result"
    },
    {
     "data": {
      "image/png": "[encoded data removed]",
      "text/plain": [
       "<Figure size 720x360 with 1 Axes>"
      ]
     },
     "metadata": {},
     "output_type": "display_data"
    }
   ],
   "source": [
    "# Plot savings pie chart\n",
    "df_savings.plot.pie(y=\"Amounts\", title = \"Crypto vs Stocks/Bonds\", figsize=(10,5))"
   ]
  },
  {
   "cell_type": "code",
   "execution_count": 38,
   "metadata": {},
   "outputs": [
    {
     "name": "stdout",
     "output_type": "stream",
     "text": [
      "You're total savings is: $94294.97\n",
      "Congrats! You have enough savings!\n"
     ]
    }
   ],
   "source": [
    "# Set ideal emergency fund\n",
    "emergency_fund = monthly_income * 3\n",
    "\n",
    "# Calculate total amount of savings\n",
    "total_savings_amount = total_crpyto_value + total_shares_value\n",
    "print(f\"You're total savings is: ${total_savings_amount:0.2f}\")\n",
    "\n",
    "# Validate saving health\n",
    "if total_savings_amount > emergency_fund:\n",
    "    print(\"Congrats! You have enough savings!\")\n",
    "elif total_savings_amount == emergency_fund:\n",
    "    print(\"Awesome, you have reached your financial goal\")\n",
    "else:\n",
    "    print(f\"You are ${emergency_fund-total_savings_amount:0.2f} from reaching your goal.\")"
   ]
  },
  {
   "cell_type": "markdown",
   "metadata": {},
   "source": [
    "## Part 2 - Retirement Planning\n",
    "\n",
    "### Monte Carlo Simulation"
   ]
  },
  {
   "cell_type": "code",
   "execution_count": 39,
   "metadata": {},
   "outputs": [],
   "source": [
    "# Set start and end dates of five years back from today.\n",
    "# Sample results may vary from the solution based on the time frame chosen\n",
    "start_date = pd.Timestamp('2016-06-18', tz='America/New_York').isoformat()\n",
    "end_date = pd.Timestamp('2021-06-18', tz='America/New_York').isoformat()"
   ]
  },
  {
   "cell_type": "code",
   "execution_count": 40,
   "metadata": {},
   "outputs": [
    {
     "data": {
      "text/html": [
       "<div>\n",
       "<style scoped>\n",
       "    .dataframe tbody tr th:only-of-type {\n",
       "        vertical-align: middle;\n",
       "    }\n",
       "\n",
       "    .dataframe tbody tr th {\n",
       "        vertical-align: top;\n",
       "    }\n",
       "\n",
       "    .dataframe thead tr th {\n",
       "        text-align: left;\n",
       "    }\n",
       "\n",
       "    .dataframe thead tr:last-of-type th {\n",
       "        text-align: right;\n",
       "    }\n",
       "</style>\n",
       "<table border=\"1\" class=\"dataframe\">\n",
       "  <thead>\n",
       "    <tr>\n",
       "      <th></th>\n",
       "      <th colspan=\"5\" halign=\"left\">AGG</th>\n",
       "      <th colspan=\"5\" halign=\"left\">SPY</th>\n",
       "    </tr>\n",
       "    <tr>\n",
       "      <th></th>\n",
       "      <th>open</th>\n",
       "      <th>high</th>\n",
       "      <th>low</th>\n",
       "      <th>close</th>\n",
       "      <th>volume</th>\n",
       "      <th>open</th>\n",
       "      <th>high</th>\n",
       "      <th>low</th>\n",
       "      <th>close</th>\n",
       "      <th>volume</th>\n",
       "    </tr>\n",
       "    <tr>\n",
       "      <th>time</th>\n",
       "      <th></th>\n",
       "      <th></th>\n",
       "      <th></th>\n",
       "      <th></th>\n",
       "      <th></th>\n",
       "      <th></th>\n",
       "      <th></th>\n",
       "      <th></th>\n",
       "      <th></th>\n",
       "      <th></th>\n",
       "    </tr>\n",
       "  </thead>\n",
       "  <tbody>\n",
       "    <tr>\n",
       "      <th>2017-06-28 00:00:00-04:00</th>\n",
       "      <td>109.85</td>\n",
       "      <td>109.8800</td>\n",
       "      <td>109.680</td>\n",
       "      <td>109.85</td>\n",
       "      <td>12016805.0</td>\n",
       "      <td>NaN</td>\n",
       "      <td>NaN</td>\n",
       "      <td>NaN</td>\n",
       "      <td>NaN</td>\n",
       "      <td>NaN</td>\n",
       "    </tr>\n",
       "    <tr>\n",
       "      <th>2017-06-29 00:00:00-04:00</th>\n",
       "      <td>109.53</td>\n",
       "      <td>109.6800</td>\n",
       "      <td>109.465</td>\n",
       "      <td>109.64</td>\n",
       "      <td>2457876.0</td>\n",
       "      <td>243.66</td>\n",
       "      <td>243.72</td>\n",
       "      <td>239.955</td>\n",
       "      <td>241.39</td>\n",
       "      <td>87799860.0</td>\n",
       "    </tr>\n",
       "    <tr>\n",
       "      <th>2017-06-30 00:00:00-04:00</th>\n",
       "      <td>109.62</td>\n",
       "      <td>109.6273</td>\n",
       "      <td>109.460</td>\n",
       "      <td>109.49</td>\n",
       "      <td>2201175.0</td>\n",
       "      <td>242.26</td>\n",
       "      <td>242.71</td>\n",
       "      <td>241.575</td>\n",
       "      <td>241.77</td>\n",
       "      <td>50347309.0</td>\n",
       "    </tr>\n",
       "    <tr>\n",
       "      <th>2017-07-03 00:00:00-04:00</th>\n",
       "      <td>109.30</td>\n",
       "      <td>109.3000</td>\n",
       "      <td>109.010</td>\n",
       "      <td>109.08</td>\n",
       "      <td>1681516.0</td>\n",
       "      <td>242.91</td>\n",
       "      <td>243.38</td>\n",
       "      <td>242.290</td>\n",
       "      <td>242.32</td>\n",
       "      <td>27234078.0</td>\n",
       "    </tr>\n",
       "    <tr>\n",
       "      <th>2017-07-05 00:00:00-04:00</th>\n",
       "      <td>109.08</td>\n",
       "      <td>109.1800</td>\n",
       "      <td>109.000</td>\n",
       "      <td>109.15</td>\n",
       "      <td>2694196.0</td>\n",
       "      <td>242.62</td>\n",
       "      <td>243.01</td>\n",
       "      <td>241.700</td>\n",
       "      <td>242.77</td>\n",
       "      <td>41067682.0</td>\n",
       "    </tr>\n",
       "  </tbody>\n",
       "</table>\n",
       "</div>"
      ],
      "text/plain": [
       "                              AGG                                         \\\n",
       "                             open      high      low   close      volume   \n",
       "time                                                                       \n",
       "2017-06-28 00:00:00-04:00  109.85  109.8800  109.680  109.85  12016805.0   \n",
       "2017-06-29 00:00:00-04:00  109.53  109.6800  109.465  109.64   2457876.0   \n",
       "2017-06-30 00:00:00-04:00  109.62  109.6273  109.460  109.49   2201175.0   \n",
       "2017-07-03 00:00:00-04:00  109.30  109.3000  109.010  109.08   1681516.0   \n",
       "2017-07-05 00:00:00-04:00  109.08  109.1800  109.000  109.15   2694196.0   \n",
       "\n",
       "                              SPY                                       \n",
       "                             open    high      low   close      volume  \n",
       "time                                                                    \n",
       "2017-06-28 00:00:00-04:00     NaN     NaN      NaN     NaN         NaN  \n",
       "2017-06-29 00:00:00-04:00  243.66  243.72  239.955  241.39  87799860.0  \n",
       "2017-06-30 00:00:00-04:00  242.26  242.71  241.575  241.77  50347309.0  \n",
       "2017-07-03 00:00:00-04:00  242.91  243.38  242.290  242.32  27234078.0  \n",
       "2017-07-05 00:00:00-04:00  242.62  243.01  241.700  242.77  41067682.0  "
      ]
     },
     "execution_count": 40,
     "metadata": {},
     "output_type": "execute_result"
    }
   ],
   "source": [
    "# Get 5 years' worth of historical data for SPY and AGG\n",
    "df_stock_data = alpaca.get_barset(\n",
    "    tickers,\n",
    "    timeframe,\n",
    "    start=start_date,\n",
    "    end=end_date,\n",
    "    limit=1000\n",
    ").df\n",
    "\n",
    "# Display sample data\n",
    "df_stock_data.head()"
   ]
  },
  {
   "cell_type": "code",
   "execution_count": 41,
   "metadata": {},
   "outputs": [],
   "source": [
    "# Configuring a Monte Carlo simulation to forecast 30 years cumulative returns\n",
    "MC_even = MCSimulation(\n",
    "    portfolio_data = df_stock_data,\n",
    "    weights =[.4,.6],\n",
    "    num_simulation = 500,\n",
    "    num_trading_days = 252*30\n",
    "    )\n",
    "\n"
   ]
  },
  {
   "cell_type": "code",
   "execution_count": 42,
   "metadata": {},
   "outputs": [
    {
     "data": {
      "text/html": [
       "<div>\n",
       "<style scoped>\n",
       "    .dataframe tbody tr th:only-of-type {\n",
       "        vertical-align: middle;\n",
       "    }\n",
       "\n",
       "    .dataframe tbody tr th {\n",
       "        vertical-align: top;\n",
       "    }\n",
       "\n",
       "    .dataframe thead tr th {\n",
       "        text-align: left;\n",
       "    }\n",
       "\n",
       "    .dataframe thead tr:last-of-type th {\n",
       "        text-align: right;\n",
       "    }\n",
       "</style>\n",
       "<table border=\"1\" class=\"dataframe\">\n",
       "  <thead>\n",
       "    <tr>\n",
       "      <th></th>\n",
       "      <th colspan=\"6\" halign=\"left\">AGG</th>\n",
       "      <th colspan=\"6\" halign=\"left\">SPY</th>\n",
       "    </tr>\n",
       "    <tr>\n",
       "      <th></th>\n",
       "      <th>open</th>\n",
       "      <th>high</th>\n",
       "      <th>low</th>\n",
       "      <th>close</th>\n",
       "      <th>volume</th>\n",
       "      <th>daily_return</th>\n",
       "      <th>open</th>\n",
       "      <th>high</th>\n",
       "      <th>low</th>\n",
       "      <th>close</th>\n",
       "      <th>volume</th>\n",
       "      <th>daily_return</th>\n",
       "    </tr>\n",
       "    <tr>\n",
       "      <th>time</th>\n",
       "      <th></th>\n",
       "      <th></th>\n",
       "      <th></th>\n",
       "      <th></th>\n",
       "      <th></th>\n",
       "      <th></th>\n",
       "      <th></th>\n",
       "      <th></th>\n",
       "      <th></th>\n",
       "      <th></th>\n",
       "      <th></th>\n",
       "      <th></th>\n",
       "    </tr>\n",
       "  </thead>\n",
       "  <tbody>\n",
       "    <tr>\n",
       "      <th>2017-06-28 00:00:00-04:00</th>\n",
       "      <td>109.85</td>\n",
       "      <td>109.8800</td>\n",
       "      <td>109.680</td>\n",
       "      <td>109.85</td>\n",
       "      <td>12016805.0</td>\n",
       "      <td>NaN</td>\n",
       "      <td>NaN</td>\n",
       "      <td>NaN</td>\n",
       "      <td>NaN</td>\n",
       "      <td>NaN</td>\n",
       "      <td>NaN</td>\n",
       "      <td>NaN</td>\n",
       "    </tr>\n",
       "    <tr>\n",
       "      <th>2017-06-29 00:00:00-04:00</th>\n",
       "      <td>109.53</td>\n",
       "      <td>109.6800</td>\n",
       "      <td>109.465</td>\n",
       "      <td>109.64</td>\n",
       "      <td>2457876.0</td>\n",
       "      <td>-0.001912</td>\n",
       "      <td>243.66</td>\n",
       "      <td>243.72</td>\n",
       "      <td>239.955</td>\n",
       "      <td>241.39</td>\n",
       "      <td>87799860.0</td>\n",
       "      <td>NaN</td>\n",
       "    </tr>\n",
       "    <tr>\n",
       "      <th>2017-06-30 00:00:00-04:00</th>\n",
       "      <td>109.62</td>\n",
       "      <td>109.6273</td>\n",
       "      <td>109.460</td>\n",
       "      <td>109.49</td>\n",
       "      <td>2201175.0</td>\n",
       "      <td>-0.001368</td>\n",
       "      <td>242.26</td>\n",
       "      <td>242.71</td>\n",
       "      <td>241.575</td>\n",
       "      <td>241.77</td>\n",
       "      <td>50347309.0</td>\n",
       "      <td>0.001574</td>\n",
       "    </tr>\n",
       "    <tr>\n",
       "      <th>2017-07-03 00:00:00-04:00</th>\n",
       "      <td>109.30</td>\n",
       "      <td>109.3000</td>\n",
       "      <td>109.010</td>\n",
       "      <td>109.08</td>\n",
       "      <td>1681516.0</td>\n",
       "      <td>-0.003745</td>\n",
       "      <td>242.91</td>\n",
       "      <td>243.38</td>\n",
       "      <td>242.290</td>\n",
       "      <td>242.32</td>\n",
       "      <td>27234078.0</td>\n",
       "      <td>0.002275</td>\n",
       "    </tr>\n",
       "    <tr>\n",
       "      <th>2017-07-05 00:00:00-04:00</th>\n",
       "      <td>109.08</td>\n",
       "      <td>109.1800</td>\n",
       "      <td>109.000</td>\n",
       "      <td>109.15</td>\n",
       "      <td>2694196.0</td>\n",
       "      <td>0.000642</td>\n",
       "      <td>242.62</td>\n",
       "      <td>243.01</td>\n",
       "      <td>241.700</td>\n",
       "      <td>242.77</td>\n",
       "      <td>41067682.0</td>\n",
       "      <td>0.001857</td>\n",
       "    </tr>\n",
       "  </tbody>\n",
       "</table>\n",
       "</div>"
      ],
      "text/plain": [
       "                              AGG                                         \\\n",
       "                             open      high      low   close      volume   \n",
       "time                                                                       \n",
       "2017-06-28 00:00:00-04:00  109.85  109.8800  109.680  109.85  12016805.0   \n",
       "2017-06-29 00:00:00-04:00  109.53  109.6800  109.465  109.64   2457876.0   \n",
       "2017-06-30 00:00:00-04:00  109.62  109.6273  109.460  109.49   2201175.0   \n",
       "2017-07-03 00:00:00-04:00  109.30  109.3000  109.010  109.08   1681516.0   \n",
       "2017-07-05 00:00:00-04:00  109.08  109.1800  109.000  109.15   2694196.0   \n",
       "\n",
       "                                           SPY                           \\\n",
       "                          daily_return    open    high      low   close   \n",
       "time                                                                      \n",
       "2017-06-28 00:00:00-04:00          NaN     NaN     NaN      NaN     NaN   \n",
       "2017-06-29 00:00:00-04:00    -0.001912  243.66  243.72  239.955  241.39   \n",
       "2017-06-30 00:00:00-04:00    -0.001368  242.26  242.71  241.575  241.77   \n",
       "2017-07-03 00:00:00-04:00    -0.003745  242.91  243.38  242.290  242.32   \n",
       "2017-07-05 00:00:00-04:00     0.000642  242.62  243.01  241.700  242.77   \n",
       "\n",
       "                                                    \n",
       "                               volume daily_return  \n",
       "time                                                \n",
       "2017-06-28 00:00:00-04:00         NaN          NaN  \n",
       "2017-06-29 00:00:00-04:00  87799860.0          NaN  \n",
       "2017-06-30 00:00:00-04:00  50347309.0     0.001574  \n",
       "2017-07-03 00:00:00-04:00  27234078.0     0.002275  \n",
       "2017-07-05 00:00:00-04:00  41067682.0     0.001857  "
      ]
     },
     "execution_count": 42,
     "metadata": {},
     "output_type": "execute_result"
    }
   ],
   "source": [
    "# Printing the simulation input data\n",
    "MC_even.portfolio_data.head()"
   ]
  },
  {
   "cell_type": "code",
   "execution_count": 43,
   "metadata": {},
   "outputs": [
    {
     "name": "stdout",
     "output_type": "stream",
     "text": [
      "Running Monte Carlo simulation number 0.\n",
      "Running Monte Carlo simulation number 10.\n",
      "Running Monte Carlo simulation number 20.\n",
      "Running Monte Carlo simulation number 30.\n",
      "Running Monte Carlo simulation number 40.\n",
      "Running Monte Carlo simulation number 50.\n",
      "Running Monte Carlo simulation number 60.\n",
      "Running Monte Carlo simulation number 70.\n",
      "Running Monte Carlo simulation number 80.\n",
      "Running Monte Carlo simulation number 90.\n",
      "Running Monte Carlo simulation number 100.\n",
      "Running Monte Carlo simulation number 110.\n",
      "Running Monte Carlo simulation number 120.\n",
      "Running Monte Carlo simulation number 130.\n",
      "Running Monte Carlo simulation number 140.\n",
      "Running Monte Carlo simulation number 150.\n",
      "Running Monte Carlo simulation number 160.\n",
      "Running Monte Carlo simulation number 170.\n",
      "Running Monte Carlo simulation number 180.\n",
      "Running Monte Carlo simulation number 190.\n",
      "Running Monte Carlo simulation number 200.\n",
      "Running Monte Carlo simulation number 210.\n",
      "Running Monte Carlo simulation number 220.\n",
      "Running Monte Carlo simulation number 230.\n",
      "Running Monte Carlo simulation number 240.\n",
      "Running Monte Carlo simulation number 250.\n",
      "Running Monte Carlo simulation number 260.\n",
      "Running Monte Carlo simulation number 270.\n",
      "Running Monte Carlo simulation number 280.\n",
      "Running Monte Carlo simulation number 290.\n",
      "Running Monte Carlo simulation number 300.\n",
      "Running Monte Carlo simulation number 310.\n",
      "Running Monte Carlo simulation number 320.\n",
      "Running Monte Carlo simulation number 330.\n",
      "Running Monte Carlo simulation number 340.\n",
      "Running Monte Carlo simulation number 350.\n",
      "Running Monte Carlo simulation number 360.\n",
      "Running Monte Carlo simulation number 370.\n",
      "Running Monte Carlo simulation number 380.\n",
      "Running Monte Carlo simulation number 390.\n",
      "Running Monte Carlo simulation number 400.\n",
      "Running Monte Carlo simulation number 410.\n",
      "Running Monte Carlo simulation number 420.\n",
      "Running Monte Carlo simulation number 430.\n",
      "Running Monte Carlo simulation number 440.\n",
      "Running Monte Carlo simulation number 450.\n",
      "Running Monte Carlo simulation number 460.\n",
      "Running Monte Carlo simulation number 470.\n",
      "Running Monte Carlo simulation number 480.\n",
      "Running Monte Carlo simulation number 490.\n"
     ]
    },
    {
     "data": {
      "text/html": [
       "<div>\n",
       "<style scoped>\n",
       "    .dataframe tbody tr th:only-of-type {\n",
       "        vertical-align: middle;\n",
       "    }\n",
       "\n",
       "    .dataframe tbody tr th {\n",
       "        vertical-align: top;\n",
       "    }\n",
       "\n",
       "    .dataframe thead th {\n",
       "        text-align: right;\n",
       "    }\n",
       "</style>\n",
       "<table border=\"1\" class=\"dataframe\">\n",
       "  <thead>\n",
       "    <tr style=\"text-align: right;\">\n",
       "      <th></th>\n",
       "      <th>0</th>\n",
       "      <th>1</th>\n",
       "      <th>2</th>\n",
       "      <th>3</th>\n",
       "      <th>4</th>\n",
       "      <th>5</th>\n",
       "      <th>6</th>\n",
       "      <th>7</th>\n",
       "      <th>8</th>\n",
       "      <th>9</th>\n",
       "      <th>...</th>\n",
       "      <th>490</th>\n",
       "      <th>491</th>\n",
       "      <th>492</th>\n",
       "      <th>493</th>\n",
       "      <th>494</th>\n",
       "      <th>495</th>\n",
       "      <th>496</th>\n",
       "      <th>497</th>\n",
       "      <th>498</th>\n",
       "      <th>499</th>\n",
       "    </tr>\n",
       "  </thead>\n",
       "  <tbody>\n",
       "    <tr>\n",
       "      <th>0</th>\n",
       "      <td>1.000000</td>\n",
       "      <td>1.000000</td>\n",
       "      <td>1.000000</td>\n",
       "      <td>1.000000</td>\n",
       "      <td>1.000000</td>\n",
       "      <td>1.000000</td>\n",
       "      <td>1.000000</td>\n",
       "      <td>1.000000</td>\n",
       "      <td>1.000000</td>\n",
       "      <td>1.000000</td>\n",
       "      <td>...</td>\n",
       "      <td>1.000000</td>\n",
       "      <td>1.000000</td>\n",
       "      <td>1.000000</td>\n",
       "      <td>1.000000</td>\n",
       "      <td>1.000000</td>\n",
       "      <td>1.000000</td>\n",
       "      <td>1.000000</td>\n",
       "      <td>1.000000</td>\n",
       "      <td>1.000000</td>\n",
       "      <td>1.000000</td>\n",
       "    </tr>\n",
       "    <tr>\n",
       "      <th>1</th>\n",
       "      <td>0.992147</td>\n",
       "      <td>0.988214</td>\n",
       "      <td>1.007085</td>\n",
       "      <td>0.997948</td>\n",
       "      <td>1.003817</td>\n",
       "      <td>1.003351</td>\n",
       "      <td>1.006874</td>\n",
       "      <td>1.002348</td>\n",
       "      <td>0.995019</td>\n",
       "      <td>0.993468</td>\n",
       "      <td>...</td>\n",
       "      <td>1.012943</td>\n",
       "      <td>1.004671</td>\n",
       "      <td>0.987760</td>\n",
       "      <td>0.999096</td>\n",
       "      <td>0.999240</td>\n",
       "      <td>0.982951</td>\n",
       "      <td>1.004513</td>\n",
       "      <td>0.996213</td>\n",
       "      <td>0.993187</td>\n",
       "      <td>0.993307</td>\n",
       "    </tr>\n",
       "    <tr>\n",
       "      <th>2</th>\n",
       "      <td>0.978558</td>\n",
       "      <td>0.988884</td>\n",
       "      <td>1.005602</td>\n",
       "      <td>0.985881</td>\n",
       "      <td>1.009510</td>\n",
       "      <td>0.998125</td>\n",
       "      <td>1.015121</td>\n",
       "      <td>0.996223</td>\n",
       "      <td>1.005379</td>\n",
       "      <td>1.004094</td>\n",
       "      <td>...</td>\n",
       "      <td>0.996200</td>\n",
       "      <td>1.006642</td>\n",
       "      <td>0.985951</td>\n",
       "      <td>0.992122</td>\n",
       "      <td>1.000350</td>\n",
       "      <td>0.981800</td>\n",
       "      <td>1.004933</td>\n",
       "      <td>0.990930</td>\n",
       "      <td>0.998468</td>\n",
       "      <td>0.993143</td>\n",
       "    </tr>\n",
       "    <tr>\n",
       "      <th>3</th>\n",
       "      <td>0.979974</td>\n",
       "      <td>0.998297</td>\n",
       "      <td>1.003945</td>\n",
       "      <td>0.996478</td>\n",
       "      <td>1.013780</td>\n",
       "      <td>1.007751</td>\n",
       "      <td>1.029124</td>\n",
       "      <td>1.009438</td>\n",
       "      <td>1.010399</td>\n",
       "      <td>0.993656</td>\n",
       "      <td>...</td>\n",
       "      <td>0.998162</td>\n",
       "      <td>0.994230</td>\n",
       "      <td>0.967768</td>\n",
       "      <td>1.006806</td>\n",
       "      <td>0.994859</td>\n",
       "      <td>0.988324</td>\n",
       "      <td>1.003946</td>\n",
       "      <td>0.991540</td>\n",
       "      <td>1.011635</td>\n",
       "      <td>0.994442</td>\n",
       "    </tr>\n",
       "    <tr>\n",
       "      <th>4</th>\n",
       "      <td>0.984120</td>\n",
       "      <td>0.988732</td>\n",
       "      <td>1.012799</td>\n",
       "      <td>0.979807</td>\n",
       "      <td>1.004037</td>\n",
       "      <td>1.011421</td>\n",
       "      <td>1.032032</td>\n",
       "      <td>1.012174</td>\n",
       "      <td>0.995571</td>\n",
       "      <td>0.993930</td>\n",
       "      <td>...</td>\n",
       "      <td>1.000085</td>\n",
       "      <td>0.990528</td>\n",
       "      <td>0.953865</td>\n",
       "      <td>0.994569</td>\n",
       "      <td>0.998106</td>\n",
       "      <td>0.994274</td>\n",
       "      <td>0.996962</td>\n",
       "      <td>0.987617</td>\n",
       "      <td>1.011885</td>\n",
       "      <td>0.986937</td>\n",
       "    </tr>\n",
       "    <tr>\n",
       "      <th>...</th>\n",
       "      <td>...</td>\n",
       "      <td>...</td>\n",
       "      <td>...</td>\n",
       "      <td>...</td>\n",
       "      <td>...</td>\n",
       "      <td>...</td>\n",
       "      <td>...</td>\n",
       "      <td>...</td>\n",
       "      <td>...</td>\n",
       "      <td>...</td>\n",
       "      <td>...</td>\n",
       "      <td>...</td>\n",
       "      <td>...</td>\n",
       "      <td>...</td>\n",
       "      <td>...</td>\n",
       "      <td>...</td>\n",
       "      <td>...</td>\n",
       "      <td>...</td>\n",
       "      <td>...</td>\n",
       "      <td>...</td>\n",
       "      <td>...</td>\n",
       "    </tr>\n",
       "    <tr>\n",
       "      <th>7556</th>\n",
       "      <td>18.885541</td>\n",
       "      <td>8.471298</td>\n",
       "      <td>10.708119</td>\n",
       "      <td>35.218961</td>\n",
       "      <td>19.799555</td>\n",
       "      <td>6.601998</td>\n",
       "      <td>24.950071</td>\n",
       "      <td>16.137814</td>\n",
       "      <td>25.434249</td>\n",
       "      <td>27.023305</td>\n",
       "      <td>...</td>\n",
       "      <td>21.437176</td>\n",
       "      <td>16.294920</td>\n",
       "      <td>6.069362</td>\n",
       "      <td>17.830273</td>\n",
       "      <td>10.675021</td>\n",
       "      <td>9.826699</td>\n",
       "      <td>13.334877</td>\n",
       "      <td>25.795178</td>\n",
       "      <td>26.751943</td>\n",
       "      <td>13.290960</td>\n",
       "    </tr>\n",
       "    <tr>\n",
       "      <th>7557</th>\n",
       "      <td>18.952873</td>\n",
       "      <td>8.484946</td>\n",
       "      <td>10.601097</td>\n",
       "      <td>35.513157</td>\n",
       "      <td>19.556971</td>\n",
       "      <td>6.513548</td>\n",
       "      <td>24.985977</td>\n",
       "      <td>16.193310</td>\n",
       "      <td>25.108943</td>\n",
       "      <td>27.083000</td>\n",
       "      <td>...</td>\n",
       "      <td>21.584712</td>\n",
       "      <td>16.095190</td>\n",
       "      <td>6.043765</td>\n",
       "      <td>17.533886</td>\n",
       "      <td>10.716836</td>\n",
       "      <td>9.765135</td>\n",
       "      <td>13.275413</td>\n",
       "      <td>25.824585</td>\n",
       "      <td>26.712106</td>\n",
       "      <td>13.138891</td>\n",
       "    </tr>\n",
       "    <tr>\n",
       "      <th>7558</th>\n",
       "      <td>18.741910</td>\n",
       "      <td>8.302337</td>\n",
       "      <td>10.586411</td>\n",
       "      <td>35.740191</td>\n",
       "      <td>19.532463</td>\n",
       "      <td>6.485526</td>\n",
       "      <td>24.825857</td>\n",
       "      <td>16.355573</td>\n",
       "      <td>25.128612</td>\n",
       "      <td>26.564463</td>\n",
       "      <td>...</td>\n",
       "      <td>21.734412</td>\n",
       "      <td>16.089288</td>\n",
       "      <td>6.033722</td>\n",
       "      <td>17.658459</td>\n",
       "      <td>10.737026</td>\n",
       "      <td>9.711498</td>\n",
       "      <td>13.276409</td>\n",
       "      <td>25.945076</td>\n",
       "      <td>26.525115</td>\n",
       "      <td>13.314836</td>\n",
       "    </tr>\n",
       "    <tr>\n",
       "      <th>7559</th>\n",
       "      <td>18.511185</td>\n",
       "      <td>8.340997</td>\n",
       "      <td>10.643165</td>\n",
       "      <td>36.150232</td>\n",
       "      <td>19.392004</td>\n",
       "      <td>6.512247</td>\n",
       "      <td>24.555200</td>\n",
       "      <td>16.403204</td>\n",
       "      <td>24.608328</td>\n",
       "      <td>26.386819</td>\n",
       "      <td>...</td>\n",
       "      <td>21.502789</td>\n",
       "      <td>16.030551</td>\n",
       "      <td>6.000833</td>\n",
       "      <td>17.474406</td>\n",
       "      <td>10.859246</td>\n",
       "      <td>9.730962</td>\n",
       "      <td>13.244141</td>\n",
       "      <td>25.899551</td>\n",
       "      <td>26.495063</td>\n",
       "      <td>13.338490</td>\n",
       "    </tr>\n",
       "    <tr>\n",
       "      <th>7560</th>\n",
       "      <td>18.473406</td>\n",
       "      <td>8.395363</td>\n",
       "      <td>10.641131</td>\n",
       "      <td>36.205371</td>\n",
       "      <td>19.438747</td>\n",
       "      <td>6.477730</td>\n",
       "      <td>24.709911</td>\n",
       "      <td>16.395892</td>\n",
       "      <td>24.827778</td>\n",
       "      <td>26.412319</td>\n",
       "      <td>...</td>\n",
       "      <td>21.488606</td>\n",
       "      <td>15.788219</td>\n",
       "      <td>6.039613</td>\n",
       "      <td>17.473524</td>\n",
       "      <td>10.894149</td>\n",
       "      <td>9.749907</td>\n",
       "      <td>13.319643</td>\n",
       "      <td>26.143601</td>\n",
       "      <td>26.605207</td>\n",
       "      <td>13.245214</td>\n",
       "    </tr>\n",
       "  </tbody>\n",
       "</table>\n",
       "<p>7561 rows × 500 columns</p>\n",
       "</div>"
      ],
      "text/plain": [
       "            0         1          2          3          4         5    \\\n",
       "0      1.000000  1.000000   1.000000   1.000000   1.000000  1.000000   \n",
       "1      0.992147  0.988214   1.007085   0.997948   1.003817  1.003351   \n",
       "2      0.978558  0.988884   1.005602   0.985881   1.009510  0.998125   \n",
       "3      0.979974  0.998297   1.003945   0.996478   1.013780  1.007751   \n",
       "4      0.984120  0.988732   1.012799   0.979807   1.004037  1.011421   \n",
       "...         ...       ...        ...        ...        ...       ...   \n",
       "7556  18.885541  8.471298  10.708119  35.218961  19.799555  6.601998   \n",
       "7557  18.952873  8.484946  10.601097  35.513157  19.556971  6.513548   \n",
       "7558  18.741910  8.302337  10.586411  35.740191  19.532463  6.485526   \n",
       "7559  18.511185  8.340997  10.643165  36.150232  19.392004  6.512247   \n",
       "7560  18.473406  8.395363  10.641131  36.205371  19.438747  6.477730   \n",
       "\n",
       "            6          7          8          9    ...        490        491  \\\n",
       "0      1.000000   1.000000   1.000000   1.000000  ...   1.000000   1.000000   \n",
       "1      1.006874   1.002348   0.995019   0.993468  ...   1.012943   1.004671   \n",
       "2      1.015121   0.996223   1.005379   1.004094  ...   0.996200   1.006642   \n",
       "3      1.029124   1.009438   1.010399   0.993656  ...   0.998162   0.994230   \n",
       "4      1.032032   1.012174   0.995571   0.993930  ...   1.000085   0.990528   \n",
       "...         ...        ...        ...        ...  ...        ...        ...   \n",
       "7556  24.950071  16.137814  25.434249  27.023305  ...  21.437176  16.294920   \n",
       "7557  24.985977  16.193310  25.108943  27.083000  ...  21.584712  16.095190   \n",
       "7558  24.825857  16.355573  25.128612  26.564463  ...  21.734412  16.089288   \n",
       "7559  24.555200  16.403204  24.608328  26.386819  ...  21.502789  16.030551   \n",
       "7560  24.709911  16.395892  24.827778  26.412319  ...  21.488606  15.788219   \n",
       "\n",
       "           492        493        494       495        496        497  \\\n",
       "0     1.000000   1.000000   1.000000  1.000000   1.000000   1.000000   \n",
       "1     0.987760   0.999096   0.999240  0.982951   1.004513   0.996213   \n",
       "2     0.985951   0.992122   1.000350  0.981800   1.004933   0.990930   \n",
       "3     0.967768   1.006806   0.994859  0.988324   1.003946   0.991540   \n",
       "4     0.953865   0.994569   0.998106  0.994274   0.996962   0.987617   \n",
       "...        ...        ...        ...       ...        ...        ...   \n",
       "7556  6.069362  17.830273  10.675021  9.826699  13.334877  25.795178   \n",
       "7557  6.043765  17.533886  10.716836  9.765135  13.275413  25.824585   \n",
       "7558  6.033722  17.658459  10.737026  9.711498  13.276409  25.945076   \n",
       "7559  6.000833  17.474406  10.859246  9.730962  13.244141  25.899551   \n",
       "7560  6.039613  17.473524  10.894149  9.749907  13.319643  26.143601   \n",
       "\n",
       "            498        499  \n",
       "0      1.000000   1.000000  \n",
       "1      0.993187   0.993307  \n",
       "2      0.998468   0.993143  \n",
       "3      1.011635   0.994442  \n",
       "4      1.011885   0.986937  \n",
       "...         ...        ...  \n",
       "7556  26.751943  13.290960  \n",
       "7557  26.712106  13.138891  \n",
       "7558  26.525115  13.314836  \n",
       "7559  26.495063  13.338490  \n",
       "7560  26.605207  13.245214  \n",
       "\n",
       "[7561 rows x 500 columns]"
      ]
     },
     "execution_count": 43,
     "metadata": {},
     "output_type": "execute_result"
    }
   ],
   "source": [
    "# Running a Monte Carlo simulation to forecast 30 years cumulative returns\n",
    "MC_even.calc_cumulative_return()"
   ]
  },
  {
   "cell_type": "code",
   "execution_count": 44,
   "metadata": {},
   "outputs": [
    {
     "data": {
      "image/png": "[encoded data removed]",
      "text/plain": [
       "<Figure size 432x288 with 1 Axes>"
      ]
     },
     "metadata": {
      "needs_background": "light"
     },
     "output_type": "display_data"
    }
   ],
   "source": [
    "# Plot simulation outcomes\n",
    "mc_plot = MC_even.plot_simulation()"
   ]
  },
  {
   "cell_type": "code",
   "execution_count": 45,
   "metadata": {},
   "outputs": [
    {
     "data": {
      "image/png": "[encoded data removed]",
      "text/plain": [
       "<Figure size 432x288 with 1 Axes>"
      ]
     },
     "metadata": {
      "needs_background": "light"
     },
     "output_type": "display_data"
    }
   ],
   "source": [
    "# Plot probability distribution and confidence intervals\n",
    "prob_plot = MC_even.plot_distribution()"
   ]
  },
  {
   "cell_type": "markdown",
   "metadata": {},
   "source": [
    "### Retirement Analysis"
   ]
  },
  {
   "cell_type": "code",
   "execution_count": 46,
   "metadata": {},
   "outputs": [
    {
     "name": "stdout",
     "output_type": "stream",
     "text": [
      "count           500.000000\n",
      "mean             20.175229\n",
      "std              15.215633\n",
      "min               2.438924\n",
      "25%              10.397136\n",
      "50%              15.674336\n",
      "75%              25.814553\n",
      "max             104.188101\n",
      "95% CI Lower      4.459865\n",
      "95% CI Upper     61.833421\n",
      "Name: 7560, dtype: float64\n"
     ]
    }
   ],
   "source": [
    "# Fetch summary statistics from the Monte Carlo simulation results\n",
    "even_table = MC_even.summarize_cumulative_return()\n",
    "\n",
    "# Print summary statistics\n",
    "print(even_table)"
   ]
  },
  {
   "cell_type": "markdown",
   "metadata": {},
   "source": [
    "### Calculate the expected portfolio return at the 95% lower and upper confidence intervals based on a `$20,000` initial investment."
   ]
  },
  {
   "cell_type": "code",
   "execution_count": 47,
   "metadata": {},
   "outputs": [
    {
     "name": "stdout",
     "output_type": "stream",
     "text": [
      "There is a 95% chance that an initial investment of $20000 in the portfolio over the next 30 years will end within in the range of $89197.3 and $1236668.42\n"
     ]
    }
   ],
   "source": [
    "# Set initial investment\n",
    "initial_investment = 20000\n",
    "\n",
    "# Use the lower and upper `95%` confidence intervals to calculate the range of the possible outcomes of our $20,000\n",
    "ci_lower = round(even_table[8]*20000,2)\n",
    "ci_upper = round(even_table[9]*20000,2)\n",
    "\n",
    "# Print results\n",
    "print(f\"There is a 95% chance that an initial investment of ${initial_investment} in the portfolio\"\n",
    "      f\" over the next 30 years will end within in the range of\"\n",
    "      f\" ${ci_lower} and ${ci_upper}\")"
   ]
  },
  {
   "cell_type": "markdown",
   "metadata": {},
   "source": [
    "### Calculate the expected portfolio return at the `95%` lower and upper confidence intervals based on a `50%` increase in the initial investment."
   ]
  },
  {
   "cell_type": "code",
   "execution_count": 48,
   "metadata": {},
   "outputs": [
    {
     "name": "stdout",
     "output_type": "stream",
     "text": [
      "There is a 95% chance that an initial investment of $30000.0 in the portfolio over the next 30 years will end within in the range of $133795.95 and $1855002.64\n"
     ]
    }
   ],
   "source": [
    "# Set initial investment\n",
    "initial_investment = 20000 * 1.5\n",
    "\n",
    "# Use the lower and upper `95%` confidence intervals to calculate the range of the possible outcomes of our $30,000\n",
    "ci_lower = round(even_table[8]*initial_investment,2)\n",
    "ci_upper = round(even_table[9]*initial_investment,2)\n",
    "\n",
    "# Print results\n",
    "print(f\"There is a 95% chance that an initial investment of ${initial_investment} in the portfolio\"\n",
    "      f\" over the next 30 years will end within in the range of\"\n",
    "      f\" ${ci_lower} and ${ci_upper}\")"
   ]
  },
  {
   "cell_type": "markdown",
   "metadata": {},
   "source": [
    "## Optional Challenge - Early Retirement\n",
    "\n",
    "\n",
    "### Five Years Retirement Option"
   ]
  },
  {
   "cell_type": "code",
   "execution_count": 49,
   "metadata": {},
   "outputs": [],
   "source": [
    "# Configuring a Monte Carlo simulation to forecast 5 years cumulative returns\n",
    "# YOUR CODE HERE!"
   ]
  },
  {
   "cell_type": "code",
   "execution_count": 50,
   "metadata": {},
   "outputs": [],
   "source": [
    "# Running a Monte Carlo simulation to forecast 5 years cumulative returns\n",
    "# YOUR CODE HERE!"
   ]
  },
  {
   "cell_type": "code",
   "execution_count": 51,
   "metadata": {},
   "outputs": [],
   "source": [
    "# Plot simulation outcomes\n",
    "# YOUR CODE HERE!"
   ]
  },
  {
   "cell_type": "code",
   "execution_count": 52,
   "metadata": {},
   "outputs": [],
   "source": [
    "# Plot probability distribution and confidence intervals\n",
    "# YOUR CODE HERE!"
   ]
  },
  {
   "cell_type": "code",
   "execution_count": 53,
   "metadata": {},
   "outputs": [],
   "source": [
    "# Fetch summary statistics from the Monte Carlo simulation results\n",
    "# YOUR CODE HERE!\n",
    "\n",
    "# Print summary statistics\n",
    "# YOUR CODE HERE!"
   ]
  },
  {
   "cell_type": "code",
   "execution_count": 54,
   "metadata": {},
   "outputs": [
    {
     "ename": "NameError",
     "evalue": "name 'ci_lower_five' is not defined",
     "output_type": "error",
     "traceback": [
      "\u001b[1;31m---------------------------------------------------------------------------\u001b[0m",
      "\u001b[1;31mNameError\u001b[0m                                 Traceback (most recent call last)",
      "\u001b[1;32m<ipython-input-54-d56b774f48d0>\u001b[0m in \u001b[0;36m<module>\u001b[1;34m\u001b[0m\n\u001b[0;32m      6\u001b[0m \u001b[1;33m\u001b[0m\u001b[0m\n\u001b[0;32m      7\u001b[0m \u001b[1;31m# Print results\u001b[0m\u001b[1;33m\u001b[0m\u001b[1;33m\u001b[0m\u001b[1;33m\u001b[0m\u001b[0m\n\u001b[1;32m----> 8\u001b[1;33m print(f\"There is a 95% chance that an initial investment of ${initial_investment} in the portfolio\"\n\u001b[0m\u001b[0;32m      9\u001b[0m       \u001b[1;34mf\" over the next 5 years will end within in the range of\"\u001b[0m\u001b[1;33m\u001b[0m\u001b[1;33m\u001b[0m\u001b[0m\n\u001b[0;32m     10\u001b[0m       f\" ${ci_lower_five} and ${ci_upper_five}\")\n",
      "\u001b[1;31mNameError\u001b[0m: name 'ci_lower_five' is not defined"
     ]
    }
   ],
   "source": [
    "# Set initial investment\n",
    "# YOUR CODE HERE!\n",
    "\n",
    "# Use the lower and upper `95%` confidence intervals to calculate the range of the possible outcomes of our $60,000\n",
    "# YOUR CODE HERE!\n",
    "\n",
    "# Print results\n",
    "print(f\"There is a 95% chance that an initial investment of ${initial_investment} in the portfolio\"\n",
    "      f\" over the next 5 years will end within in the range of\"\n",
    "      f\" ${ci_lower_five} and ${ci_upper_five}\")"
   ]
  },
  {
   "cell_type": "markdown",
   "metadata": {},
   "source": [
    "### Ten Years Retirement Option"
   ]
  },
  {
   "cell_type": "code",
   "execution_count": null,
   "metadata": {},
   "outputs": [],
   "source": [
    "# Configuring a Monte Carlo simulation to forecast 10 years cumulative returns\n",
    "# YOUR CODE HERE!"
   ]
  },
  {
   "cell_type": "code",
   "execution_count": null,
   "metadata": {},
   "outputs": [],
   "source": [
    "# Running a Monte Carlo simulation to forecast 10 years cumulative returns\n",
    "# YOUR CODE HERE!"
   ]
  },
  {
   "cell_type": "code",
   "execution_count": null,
   "metadata": {},
   "outputs": [],
   "source": [
    "# Plot simulation outcomes\n",
    "# YOUR CODE HERE!"
   ]
  },
  {
   "cell_type": "code",
   "execution_count": null,
   "metadata": {},
   "outputs": [],
   "source": [
    "# Plot probability distribution and confidence intervals\n",
    "# YOUR CODE HERE!"
   ]
  },
  {
   "cell_type": "code",
   "execution_count": null,
   "metadata": {},
   "outputs": [],
   "source": [
    "# Fetch summary statistics from the Monte Carlo simulation results\n",
    "# YOUR CODE HERE!\n",
    "\n",
    "# Print summary statistics\n",
    "# YOUR CODE HERE!"
   ]
  },
  {
   "cell_type": "code",
   "execution_count": null,
   "metadata": {},
   "outputs": [],
   "source": [
    "# Set initial investment\n",
    "# YOUR CODE HERE!\n",
    "\n",
    "# Use the lower and upper `95%` confidence intervals to calculate the range of the possible outcomes of our $60,000\n",
    "# YOUR CODE HERE!\n",
    "\n",
    "# Print results\n",
    "print(f\"There is a 95% chance that an initial investment of ${initial_investment} in the portfolio\"\n",
    "      f\" over the next 10 years will end within in the range of\"\n",
    "      f\" ${ci_lower_ten} and ${ci_upper_ten}\")"
   ]
  }
 ],
 "metadata": {
  "kernelspec": {
   "display_name": "Python 3",
   "language": "python",
   "name": "python3"
  },
  "language_info": {
   "codemirror_mode": {
    "name": "ipython",
    "version": 3
   },
   "file_extension": ".py",
   "mimetype": "text/x-python",
   "name": "python",
   "nbconvert_exporter": "python",
   "pygments_lexer": "ipython3",
   "version": "3.8.5"
  }
 },
 "nbformat": 4,
 "nbformat_minor": 4
}
